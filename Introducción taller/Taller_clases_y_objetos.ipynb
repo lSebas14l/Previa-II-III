{
  "nbformat": 4,
  "nbformat_minor": 0,
  "metadata": {
    "colab": {
      "name": "Copia de Taller clases y objetos.ipynb",
      "provenance": [],
      "collapsed_sections": []
    },
    "kernelspec": {
      "name": "python3",
      "display_name": "Python 3"
    },
    "language_info": {
      "name": "python"
    }
  },
  "cells": [
    {
      "cell_type": "code",
      "metadata": {
        "colab": {
          "base_uri": "https://localhost:8080/"
        },
        "id": "dw-LD8WvhqbP",
        "outputId": "d8f4513f-bb0f-426c-a3a8-f6e38c476907"
      },
      "source": [
        "class Gato:\n",
        "  numero_patas = 4  # Variable de clase - Pertenece a todos los objetos\n",
        "  def __init__(self, raza, nombre, edad): # Recibe la raza, el nombre y la edad\n",
        "    self.raza = raza\n",
        "    self.nombre = nombre\n",
        "    self.edad = edad\n",
        "  def maullar(self):\n",
        "    print(\"El gato está atento: Miau !!!\")\n",
        "  def get_raza(self): # Obtener la raza\n",
        "    print(\"La raza del gato es =\", self.raza)\n",
        "  def get_nombre(self): # Obtener el nombre\n",
        "    print(\"El nombre del gato es =\", self.nombre)\n",
        "  def get_edad(self): # Obtener la edad\n",
        "    print(\"La edad del gato es =\", self.edad, \"años\")\n",
        "\n",
        "g = Gato(\"Persa\", \"Cleo\", 2)\n",
        "g.maullar()\n",
        "g.get_raza()\n",
        "g.get_nombre()\n",
        "g.get_edad()\n",
        "\n",
        "print(\"Número de patas del gato =\", g.numero_patas)"
      ],
      "execution_count": null,
      "outputs": [
        {
          "output_type": "stream",
          "name": "stdout",
          "text": [
            "El gato está atento: Miau !!!\n",
            "La raza del gato es = Persa\n",
            "El nombre del gato es = Cleo\n",
            "La edad del gato es = 2 años\n",
            "Número de patas del gato = 4\n"
          ]
        }
      ]
    },
    {
      "cell_type": "code",
      "metadata": {
        "colab": {
          "base_uri": "https://localhost:8080/"
        },
        "id": "4bmhimKSibjv",
        "outputId": "4c6b97b0-2ee2-4f9e-c4a3-761756eb2c30"
      },
      "source": [
        "class Moto:\n",
        "  tipo_vehiculo = \"Motocicleta\"\n",
        "  def __init__(self, marca, cilindraje, modelo, color, espejos):\n",
        "    self.marca = marca\n",
        "    self.cilindraje = cilindraje\n",
        "    self.modelo = modelo\n",
        "    self.color = color\n",
        "    self.espejos = espejos\n",
        "  def encendido(self):\n",
        "    print(\"La moto enciende y emite un sonido: RUN RUN RUUUUUUUUN!!\")\n",
        "  def apagado(self):\n",
        "    print(\"La moto se apaga y el sonido que emitió se desvanece\")\n",
        "  def get_marca(self): # Obtener la marca\n",
        "    print(\"La marca de la moto es =\", self.marca)\n",
        "  def get_cilindraje(self): # Obtener el nombre\n",
        "    print(\"El cilindraje de la moto es =\", self.cilindraje)\n",
        "  def get_modelo(self): # Obtener la edad\n",
        "    print(\"El modelo de la moto es =\", self.modelo)\n",
        "  def get_color(self): # Obtener la edad\n",
        "    print(\"El color de la moto es =\", self.color)\n",
        "  def get_espejos(self): # Obtener la edad\n",
        "    print(\"La moto tiene = \", self.espejos, \" Espejos\")\n",
        "\n",
        "\n",
        "print(\"El tipo de vehiculo es =\", Moto.tipo_vehiculo)\n",
        "m = Moto(\"Ducatti\", \"250 cc\", \"Superlegera\",\"Roja\", 2 )\n",
        "print(\"\")\n",
        "m.encendido()\n",
        "print(\"\")\n",
        "m.apagado()\n",
        "print(\"\")\n",
        "m.get_cilindraje()\n",
        "print(\"\")\n",
        "m.get_modelo()\n",
        "print(\"\")\n",
        "m.get_color()\n",
        "print(\"\")\n",
        "m.get_espejos()\n",
        "  "
      ],
      "execution_count": null,
      "outputs": [
        {
          "output_type": "stream",
          "name": "stdout",
          "text": [
            "El tipo de vehiculo es = Motocicleta\n",
            "\n",
            "La moto enciende y emite un sonido: RUN RUN RUUUUUUUUN!!\n",
            "\n",
            "La moto se apaga y el sonido que emitió se desvanece\n",
            "\n",
            "El cilindraje de la moto es = 250 cc\n",
            "\n",
            "El modelo de la moto es = Superlegera\n",
            "\n",
            "El color de la moto es = Roja\n",
            "\n",
            "La moto tiene =  2  Espejos\n"
          ]
        }
      ]
    }
  ]
}